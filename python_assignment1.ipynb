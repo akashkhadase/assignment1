{
  "nbformat": 4,
  "nbformat_minor": 0,
  "metadata": {
    "colab": {
      "name": "python assignment1.ipynb",
      "provenance": []
    },
    "kernelspec": {
      "name": "python3",
      "display_name": "Python 3"
    },
    "language_info": {
      "name": "python"
    }
  },
  "cells": [
    {
      "cell_type": "code",
      "metadata": {
        "colab": {
          "base_uri": "https://localhost:8080/"
        },
        "id": "CXVzeac_05VA",
        "outputId": "7280f281-cec7-414a-c3e0-c382ae0a6028"
      },
      "source": [
        "#expamle 1\n",
        "#wap to print the hi tech string in reverse order.\n",
        "x=\"hi-tech\"\n",
        "print(x[6],x[5],x[4],x[3],x[2],x[1],x[0])"
      ],
      "execution_count": 1,
      "outputs": [
        {
          "output_type": "stream",
          "name": "stdout",
          "text": [
            "h c e t - i h\n"
          ]
        }
      ]
    },
    {
      "cell_type": "code",
      "metadata": {
        "colab": {
          "base_uri": "https://localhost:8080/"
        },
        "id": "-tjRowIE0_rJ",
        "outputId": "3a9941f1-823c-4226-fe57-d683c081df9f"
      },
      "source": [
        "#exapmle 2\n",
        "#wap to perimeter of area of rectangle with height of 7 inch & width of 5 inch\n",
        "height=7\n",
        "width=5\n",
        "print(\"value of height is={}\".format(height))\n",
        "print(\"value of wudtg is={}\".format(width))\n",
        "per=2*(height+width)\n",
        "print(\"area of rectangle is=\",per)"
      ],
      "execution_count": 4,
      "outputs": [
        {
          "output_type": "stream",
          "name": "stdout",
          "text": [
            "value of height is=7\n",
            "value of wudtg is=5\n",
            "area of rectangle is= 24\n"
          ]
        }
      ]
    },
    {
      "cell_type": "code",
      "metadata": {
        "colab": {
          "base_uri": "https://localhost:8080/"
        },
        "id": "yUN5Dii91Ilz",
        "outputId": "aee0dd37-0b7c-4a25-8f1d-e41a69b2d15d"
      },
      "source": [
        "#expample 3\n",
        "#wap to input ddays and convert into years weeks and days\n",
        "days=int(input(\"Enter the days=>\"))\n",
        "year=days/365\n",
        "month=days/30\n",
        "weeks = days/7\n",
        "print('days to months',month)\n",
        "print('days to week',weeks)\n",
        "print('days to year',year)"
      ],
      "execution_count": 3,
      "outputs": [
        {
          "output_type": "stream",
          "name": "stdout",
          "text": [
            "Enter the days=>365\n",
            "days to months 12.166666666666666\n",
            "days to week 52.142857142857146\n",
            "days to year 1.0\n"
          ]
        }
      ]
    },
    {
      "cell_type": "code",
      "metadata": {
        "colab": {
          "base_uri": "https://localhost:8080/"
        },
        "id": "HERRbtjR1P47",
        "outputId": "90775ba8-39bb-4472-9b17-a6393cbcf901"
      },
      "source": [
        "#example 4\n",
        "#wap to input two itemms weight and number of purchase and calculate the average value of items \n",
        "item1=int(input('Enter the 1 item=>'))\n",
        "item2=int(input('Enter the 2 item=>'))\n",
        "\n",
        "total=item1+item2\n",
        "per=2\n",
        "ans=total/per\n",
        "print('total avgrage is=',ans)\n"
      ],
      "execution_count": 6,
      "outputs": [
        {
          "output_type": "stream",
          "name": "stdout",
          "text": [
            "Enter the 1 item=>25\n",
            "Enter the 2 item=>15\n",
            "total avgrage is= 20.0\n"
          ]
        }
      ]
    },
    {
      "cell_type": "code",
      "metadata": {
        "colab": {
          "base_uri": "https://localhost:8080/"
        },
        "id": "Ov5YAQYS2d7q",
        "outputId": "43b2797b-07e3-4146-bcb2-893b3c5000f2"
      },
      "source": [
        "#exapmle 5\n",
        "#wap to input 4 digit number and print the revers output\n",
        "x = int(input(\"enter the 1st value=>\"))\n",
        "y = int(input(\"enter the 2nd value=>\"))\n",
        "z = int(input(\"enter the 3rd value=>\"))\n",
        "w = int(input(\"entre the 4th value=>\"))\n",
        " \n",
        "print(\"\\n{} {} {} {}\".format(w,z,y,x))"
      ],
      "execution_count": 7,
      "outputs": [
        {
          "output_type": "stream",
          "name": "stdout",
          "text": [
            "enter the 1st value=>10\n",
            "enter the 2nd value=>20\n",
            "enter the 3rd value=>30\n",
            "entre the 4th value=>40\n",
            "\n",
            "40 30 20 10\n"
          ]
        }
      ]
    },
    {
      "cell_type": "code",
      "metadata": {
        "id": "F3Lhk-dX25TN"
      },
      "source": [
        ""
      ],
      "execution_count": null,
      "outputs": []
    }
  ]
}